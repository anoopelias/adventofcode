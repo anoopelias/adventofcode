{
 "cells": [
  {
   "cell_type": "code",
   "execution_count": 2,
   "id": "bfd25161",
   "metadata": {},
   "outputs": [],
   "source": [
    ":dep aoc2023 = { path = \"../../\" }\n",
    ":dep anyhow = { version = \"1.0.75\" }"
   ]
  },
  {
   "cell_type": "code",
   "execution_count": 53,
   "id": "1a35b553",
   "metadata": {},
   "outputs": [],
   "source": [
    "use aoc2023::utils::grid::{Grid, Coord, Direction, Neighbor};\n",
    "use aoc2023::utils::util;\n",
    "use std::collections::{HashMap, HashSet, VecDeque};"
   ]
  },
  {
   "cell_type": "code",
   "execution_count": 11,
   "id": "4b65d2da",
   "metadata": {},
   "outputs": [],
   "source": [
    "let lines = util::lines_in(\"./input\");"
   ]
  },
  {
   "cell_type": "code",
   "execution_count": 5,
   "id": "0cfd3858",
   "metadata": {},
   "outputs": [],
   "source": [
    "use aoc2023::utils::util::ToGrid;"
   ]
  },
  {
   "cell_type": "code",
   "execution_count": 6,
   "id": "42c1e90d",
   "metadata": {},
   "outputs": [
    {
     "data": {
      "text/plain": [
       "23"
      ]
     },
     "execution_count": 6,
     "metadata": {},
     "output_type": "execute_result"
    }
   ],
   "source": [
    "lines.len()"
   ]
  },
  {
   "cell_type": "code",
   "execution_count": 7,
   "id": "8cde7725",
   "metadata": {},
   "outputs": [],
   "source": [
    "let grid = lines.to_grid();"
   ]
  },
  {
   "cell_type": "code",
   "execution_count": 8,
   "id": "ad36f1bb",
   "metadata": {},
   "outputs": [],
   "source": [
    "let start = Coord::new(\n",
    "    0,\n",
    "    grid.row(0)\n",
    "        .unwrap()\n",
    "        .iter()\n",
    "        .position(|val| **val == '.')\n",
    "        .unwrap(),\n",
    ");"
   ]
  },
  {
   "cell_type": "code",
   "execution_count": 9,
   "id": "4288f750",
   "metadata": {},
   "outputs": [
    {
     "data": {
      "text/plain": [
       "Coord { p: 0, q: 1 }"
      ]
     },
     "execution_count": 9,
     "metadata": {},
     "output_type": "execute_result"
    }
   ],
   "source": [
    "start"
   ]
  },
  {
   "cell_type": "code",
   "execution_count": 35,
   "id": "a5281ffb",
   "metadata": {},
   "outputs": [],
   "source": [
    "fn free_neighbors(grid: &Grid<char>, from: Coord) -> Vec<Neighbor<&char>> {\n",
    "    grid.neighbors(&from)\n",
    "        .into_iter()\n",
    "        .filter(|neighbor| *neighbor.cell.val != '#')\n",
    "        .collect::<Vec<Neighbor<&char>>>()\n",
    "}\n",
    "\n",
    "fn valid_neighbors_part2(grid: &Grid<char>, from: Coord, from_dir: Direction) -> Vec<Neighbor<&char>> {\n",
    "    grid.neighbors(&from)\n",
    "        .into_iter()\n",
    "        .filter(|neighbor| *neighbor.cell.val != '#' && neighbor.dir != from_dir)\n",
    "        .collect::<Vec<Neighbor<&char>>>()\n",
    "}\n",
    "\n",
    "fn next(grid: &Grid<char>, from: Coord, from_dir: Direction) -> Option<(Coord, usize)> {\n",
    "    let mut next_neighbors = valid_neighbors_part2(grid, from, from_dir);\n",
    "    let mut curr = from;\n",
    "    let mut dist = 0;\n",
    "    if next_neighbors.len() == 0 {\n",
    "        return None;\n",
    "    }\n",
    "\n",
    "    while next_neighbors.len() == 1 {\n",
    "        let neighbor = next_neighbors.pop().unwrap();\n",
    "        curr = neighbor.cell.coord;\n",
    "        dist += 1;\n",
    "        next_neighbors = valid_neighbors_part2(grid, curr, neighbor.dir.opposite());\n",
    "\n",
    "        if next_neighbors.len() == 0 {\n",
    "            return None;\n",
    "        }\n",
    "    }\n",
    "    Some((curr, dist))\n",
    "}"
   ]
  },
  {
   "cell_type": "code",
   "execution_count": 36,
   "id": "9918a3cf",
   "metadata": {},
   "outputs": [],
   "source": [
    "#[derive(Debug)]\n",
    "struct Edge {\n",
    "    nodes: (Coord, Coord),\n",
    "    dist: usize,\n",
    "}\n",
    "\n",
    "impl Edge {\n",
    "    fn new(nodes: (Coord, Coord), dist: usize) -> Edge {\n",
    "        Edge { nodes, dist }\n",
    "    }\n",
    "}\n",
    "\n",
    "impl PartialEq for Edge {\n",
    "    fn eq(&self, other: &Self) -> bool {\n",
    "        (self.nodes.0 == other.nodes.0 && self.nodes.1 == other.nodes.1)\n",
    "            || (self.nodes.0 == other.nodes.1 && self.nodes.1 == other.nodes.0)\n",
    "    }\n",
    "}\n",
    "\n",
    "impl Eq for Edge {}"
   ]
  },
  {
   "cell_type": "code",
   "execution_count": 37,
   "id": "cf9eecf0",
   "metadata": {},
   "outputs": [],
   "source": [
    "let end = Coord::new(\n",
    "    grid.m - 1,\n",
    "    grid.row(grid.m - 1)\n",
    "        .unwrap()\n",
    "        .iter()\n",
    "        .position(|val| **val == '.')\n",
    "        .unwrap(),\n",
    ");"
   ]
  },
  {
   "cell_type": "code",
   "execution_count": 38,
   "id": "12b544f9",
   "metadata": {},
   "outputs": [
    {
     "data": {
      "text/plain": [
       "Coord { p: 22, q: 21 }"
      ]
     },
     "execution_count": 38,
     "metadata": {},
     "output_type": "execute_result"
    }
   ],
   "source": [
    "end"
   ]
  },
  {
   "cell_type": "code",
   "execution_count": 60,
   "id": "91148928",
   "metadata": {},
   "outputs": [],
   "source": [
    "let mut edges = vec![];\n",
    "let (start_edge_other, dist) = next(&grid, start, Direction::Top).unwrap();\n",
    "edges.push(Edge::new((start, start_edge_other), dist));"
   ]
  },
  {
   "cell_type": "code",
   "execution_count": 61,
   "id": "0e2a863e",
   "metadata": {},
   "outputs": [],
   "source": [
    "    let (end_edge_other, dist) = next(&grid, end, Direction::Bottom).unwrap();\n",
    "    edges.push(Edge::new((end, end_edge_other), dist));"
   ]
  },
  {
   "cell_type": "code",
   "execution_count": 62,
   "id": "f06986de",
   "metadata": {},
   "outputs": [
    {
     "data": {
      "text/plain": [
       "[Edge { nodes: (Coord { p: 0, q: 1 }, Coord { p: 5, q: 3 }), dist: 15 }, Edge { nodes: (Coord { p: 22, q: 21 }, Coord { p: 19, q: 19 }), dist: 5 }]"
      ]
     },
     "execution_count": 62,
     "metadata": {},
     "output_type": "execute_result"
    }
   ],
   "source": [
    "edges"
   ]
  },
  {
   "cell_type": "code",
   "execution_count": 63,
   "id": "2da61173",
   "metadata": {},
   "outputs": [
    {
     "data": {
      "text/plain": [
       "()"
      ]
     },
     "execution_count": 63,
     "metadata": {},
     "output_type": "execute_result"
    }
   ],
   "source": [
    "let mut queue = VecDeque::new();\n",
    "queue.push_back(start_edge_other);\n",
    "while !queue.is_empty() {\n",
    "    let jnode = queue.pop_front().unwrap();\n",
    "    let neighbors = free_neighbors(&grid, jnode);\n",
    "\n",
    "    for neighbor in neighbors {\n",
    "        match next(&grid, neighbor.cell.coord, neighbor.dir.opposite()) {\n",
    "            Some((jnode_other, dist)) => {\n",
    "                let edge = Edge::new((jnode, jnode_other), dist);\n",
    "                if !edges.contains(&edge) {\n",
    "                    edges.push(edge);\n",
    "                    queue.push_back(jnode_other);\n",
    "                }\n",
    "            }\n",
    "            None => {}\n",
    "        }\n",
    "    }\n",
    "}"
   ]
  },
  {
   "cell_type": "code",
   "execution_count": 64,
   "id": "525a78a4",
   "metadata": {},
   "outputs": [
    {
     "data": {
      "text/plain": [
       "12"
      ]
     },
     "execution_count": 64,
     "metadata": {},
     "output_type": "execute_result"
    }
   ],
   "source": [
    "edges.len()"
   ]
  },
  {
   "cell_type": "code",
   "execution_count": 65,
   "id": "4745de6b",
   "metadata": {},
   "outputs": [
    {
     "data": {
      "text/plain": [
       "[Edge { nodes: (Coord { p: 0, q: 1 }, Coord { p: 5, q: 3 }), dist: 15 }, Edge { nodes: (Coord { p: 22, q: 21 }, Coord { p: 19, q: 19 }), dist: 5 }, Edge { nodes: (Coord { p: 5, q: 3 }, Coord { p: 3, q: 11 }), dist: 21 }, Edge { nodes: (Coord { p: 5, q: 3 }, Coord { p: 13, q: 5 }), dist: 21 }, Edge { nodes: (Coord { p: 3, q: 11 }, Coord { p: 11, q: 21 }), dist: 29 }, Edge { nodes: (Coord { p: 3, q: 11 }, Coord { p: 13, q: 13 }), dist: 23 }, Edge { nodes: (Coord { p: 13, q: 5 }, Coord { p: 13, q: 13 }), dist: 11 }, Edge { nodes: (Coord { p: 13, q: 5 }, Coord { p: 19, q: 13 }), dist: 37 }, Edge { nodes: (Coord { p: 11, q: 21 }, Coord { p: 13, q: 13 }), dist: 17 }, Edge { nodes: (Coord { p: 11, q: 21 }, Coord { p: 19, q: 19 }), dist: 9 }, Edge { nodes: (Coord { p: 13, q: 13 }, Coord { p: 19, q: 13 }), dist: 9 }, Edge { nodes: (Coord { p: 19, q: 13 }, Coord { p: 19, q: 19 }), dist: 9 }]"
      ]
     },
     "execution_count": 65,
     "metadata": {},
     "output_type": "execute_result"
    }
   ],
   "source": [
    "edges"
   ]
  },
  {
   "cell_type": "code",
   "execution_count": 66,
   "id": "5380233a",
   "metadata": {},
   "outputs": [
    {
     "data": {
      "text/plain": [
       "()"
      ]
     },
     "execution_count": 66,
     "metadata": {},
     "output_type": "execute_result"
    }
   ],
   "source": [
    "fn add_adj_node(\n",
    "    adj: &mut HashMap<Coord, Vec<(Coord, usize)>>,\n",
    "    from: Coord,\n",
    "    to: Coord,\n",
    "    dist: usize,\n",
    ") {\n",
    "    match adj.get_mut(&from) {\n",
    "        Some(to_vec) => to_vec.push((to, dist)),\n",
    "        None => {\n",
    "            adj.insert(from, vec![(to, dist)]);\n",
    "        }\n",
    "    }\n",
    "}\n",
    "\n",
    "let mut adj = HashMap::new();\n",
    "for edge in edges {\n",
    "    let (from, to) = edge.nodes;\n",
    "    add_adj_node(&mut adj, from, to, edge.dist);\n",
    "    add_adj_node(&mut adj, to, from, edge.dist);\n",
    "}"
   ]
  },
  {
   "cell_type": "code",
   "execution_count": 67,
   "id": "adfa8f6e",
   "metadata": {},
   "outputs": [
    {
     "data": {
      "text/plain": [
       "{Coord { p: 5, q: 3 }: [(Coord { p: 0, q: 1 }, 15), (Coord { p: 3, q: 11 }, 21), (Coord { p: 13, q: 5 }, 21)], Coord { p: 3, q: 11 }: [(Coord { p: 5, q: 3 }, 21), (Coord { p: 11, q: 21 }, 29), (Coord { p: 13, q: 13 }, 23)], Coord { p: 19, q: 13 }: [(Coord { p: 13, q: 5 }, 37), (Coord { p: 13, q: 13 }, 9), (Coord { p: 19, q: 19 }, 9)], Coord { p: 22, q: 21 }: [(Coord { p: 19, q: 19 }, 5)], Coord { p: 13, q: 5 }: [(Coord { p: 5, q: 3 }, 21), (Coord { p: 13, q: 13 }, 11), (Coord { p: 19, q: 13 }, 37)], Coord { p: 11, q: 21 }: [(Coord { p: 3, q: 11 }, 29), (Coord { p: 13, q: 13 }, 17), (Coord { p: 19, q: 19 }, 9)], Coord { p: 13, q: 13 }: [(Coord { p: 3, q: 11 }, 23), (Coord { p: 13, q: 5 }, 11), (Coord { p: 11, q: 21 }, 17), (Coord { p: 19, q: 13 }, 9)], Coord { p: 19, q: 19 }: [(Coord { p: 22, q: 21 }, 5), (Coord { p: 11, q: 21 }, 9), (Coord { p: 19, q: 13 }, 9)], Coord { p: 0, q: 1 }: [(Coord { p: 5, q: 3 }, 15)]}"
      ]
     },
     "execution_count": 67,
     "metadata": {},
     "output_type": "execute_result"
    }
   ],
   "source": [
    "adj"
   ]
  },
  {
   "cell_type": "code",
   "execution_count": null,
   "id": "6473179a",
   "metadata": {},
   "outputs": [],
   "source": []
  }
 ],
 "metadata": {
  "kernelspec": {
   "display_name": "Rust",
   "language": "rust",
   "name": "rust"
  },
  "language_info": {
   "codemirror_mode": "rust",
   "file_extension": ".rs",
   "mimetype": "text/rust",
   "name": "Rust",
   "pygment_lexer": "rust",
   "version": ""
  }
 },
 "nbformat": 4,
 "nbformat_minor": 5
}
