{
 "cells": [
  {
   "cell_type": "code",
   "execution_count": 20,
   "id": "6c81e53d",
   "metadata": {},
   "outputs": [],
   "source": [
    "use std::fs;"
   ]
  },
  {
   "cell_type": "code",
   "execution_count": 21,
   "id": "4f4cbae0",
   "metadata": {},
   "outputs": [],
   "source": [
    "let contents = fs::read_to_string(\"./src/day21/input1\").expect(\"Should have been able to read the file\");"
   ]
  },
  {
   "cell_type": "code",
   "execution_count": 23,
   "id": "4ba16b6e",
   "metadata": {},
   "outputs": [
    {
     "data": {
      "text/html": [
       "<div style=\"\"><svg width=\"300\" height=\"100\" viewBox=\"0 0 300 100\" xmlns=\"http://www.w3.org/2000/svg\">\n",
       "<rect x=\"0\" y=\"0\" width=\"300\" height=\"100\" opacity=\"1\" fill=\"#0000FF\" stroke=\"none\"/>\n",
       "</svg>\n",
       "</div>"
      ]
     },
     "execution_count": 23,
     "metadata": {},
     "output_type": "execute_result"
    }
   ],
   "source": [
    ":dep plotters = { version = \"^0.3.0\", default_features = false, features = [\"evcxr\", \"all_series\"] }\n",
    "\n",
    "extern crate plotters;\n",
    "// Import all the plotters prelude functions\n",
    "use plotters::prelude::*;\n",
    "use plotters::coord::Shift;\n",
    "\n",
    "evcxr_figure((300, 100), |root| {\n",
    "    root.fill(&BLACK)?;\n",
    "    let drawing_area: &DrawingArea<SVGBackend, Shift> = &root;\n",
    "    let sub_areas = drawing_area.split_evenly((3,3));\n",
    "    for (idx, sub_area) in (0..).zip(sub_areas.iter()) {\n",
    "        if idx%2 == 0 {\n",
    "            sub_area.fill(&WHITE)?;\n",
    "        }\n",
    "    }\n",
    "    // Tell plotters that everything is ok\n",
    "    Ok(())\n",
    "})"
   ]
  },
  {
   "cell_type": "code",
   "execution_count": null,
   "id": "e67661bf",
   "metadata": {},
   "outputs": [],
   "source": []
  }
 ],
 "metadata": {
  "kernelspec": {
   "display_name": "Rust",
   "language": "rust",
   "name": "rust"
  },
  "language_info": {
   "codemirror_mode": "rust",
   "file_extension": ".rs",
   "mimetype": "text/rust",
   "name": "Rust",
   "pygment_lexer": "rust",
   "version": ""
  }
 },
 "nbformat": 4,
 "nbformat_minor": 5
}
