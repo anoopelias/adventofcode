{
 "cells": [
  {
   "cell_type": "code",
   "execution_count": 2,
   "id": "7da2dd21",
   "metadata": {},
   "outputs": [],
   "source": [
    "let line = \"1,0,1~1,2,1\";"
   ]
  },
  {
   "cell_type": "code",
   "execution_count": 3,
   "id": "dc2a02a5",
   "metadata": {},
   "outputs": [],
   "source": [
    "let (start_coord, end_coord) = line.split_once(\"~\").unwrap();"
   ]
  },
  {
   "cell_type": "code",
   "execution_count": 4,
   "id": "ddc06be8",
   "metadata": {},
   "outputs": [
    {
     "data": {
      "text/plain": [
       "\"1,0,1\""
      ]
     },
     "execution_count": 4,
     "metadata": {},
     "output_type": "execute_result"
    }
   ],
   "source": [
    "start_coord"
   ]
  },
  {
   "cell_type": "code",
   "execution_count": null,
   "id": "64055df7",
   "metadata": {},
   "outputs": [],
   "source": []
  }
 ],
 "metadata": {
  "kernelspec": {
   "display_name": "Rust",
   "language": "rust",
   "name": "rust"
  },
  "language_info": {
   "codemirror_mode": "rust",
   "file_extension": ".rs",
   "mimetype": "text/rust",
   "name": "Rust",
   "pygment_lexer": "rust",
   "version": ""
  }
 },
 "nbformat": 4,
 "nbformat_minor": 5
}
