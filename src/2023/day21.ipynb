{
 "cells": [
  {
   "cell_type": "code",
   "execution_count": 20,
   "id": "5f11529f",
   "metadata": {},
   "outputs": [],
   "source": [
    "use std::fs;"
   ]
  },
  {
   "cell_type": "code",
   "execution_count": 21,
   "id": "39c9807a",
   "metadata": {},
   "outputs": [],
   "source": [
    "let contents = fs::read_to_string(\"./src/day21/input1\").expect(\"Should have been able to read the file\");"
   ]
  },
  {
   "cell_type": "code",
   "execution_count": 24,
   "id": "4ff3cd3e",
   "metadata": {},
   "outputs": [
    {
     "data": {
      "text/html": [
       "<div style=\"\"><svg width=\"300\" height=\"100\" viewBox=\"0 0 300 100\" xmlns=\"http://www.w3.org/2000/svg\">\n",
       "<rect x=\"0\" y=\"0\" width=\"300\" height=\"100\" opacity=\"1\" fill=\"#000000\" stroke=\"none\"/>\n",
       "<rect x=\"0\" y=\"0\" width=\"100\" height=\"34\" opacity=\"1\" fill=\"#FFFFFF\" stroke=\"none\"/>\n",
       "<rect x=\"200\" y=\"0\" width=\"100\" height=\"34\" opacity=\"1\" fill=\"#FFFFFF\" stroke=\"none\"/>\n",
       "<rect x=\"100\" y=\"34\" width=\"100\" height=\"33\" opacity=\"1\" fill=\"#FFFFFF\" stroke=\"none\"/>\n",
       "<rect x=\"0\" y=\"67\" width=\"100\" height=\"33\" opacity=\"1\" fill=\"#FFFFFF\" stroke=\"none\"/>\n",
       "<rect x=\"200\" y=\"67\" width=\"100\" height=\"33\" opacity=\"1\" fill=\"#FFFFFF\" stroke=\"none\"/>\n",
       "</svg>\n",
       "</div>"
      ]
     },
     "execution_count": 24,
     "metadata": {},
     "output_type": "execute_result"
    }
   ],
   "source": [
    ":dep plotters = { version = \"^0.3.0\", default_features = false, features = [\"evcxr\", \"all_series\"] }\n",
    "\n",
    "extern crate plotters;\n",
    "// Import all the plotters prelude functions\n",
    "use plotters::prelude::*;\n",
    "use plotters::coord::Shift;\n",
    "\n",
    "evcxr_figure((300, 100), |root| {\n",
    "    root.fill(&BLACK)?;\n",
    "    let drawing_area: &DrawingArea<SVGBackend, Shift> = &root;\n",
    "    let sub_areas = drawing_area.split_evenly((3,3));\n",
    "    for (idx, sub_area) in sub_areas.iter().enumerate() {\n",
    "        if idx%2 == 0 {\n",
    "            sub_area.fill(&WHITE)?;\n",
    "        }\n",
    "    }\n",
    "    // Tell plotters that everything is ok\n",
    "    Ok(())\n",
    "})"
   ]
  },
  {
   "cell_type": "code",
   "execution_count": 25,
   "id": "ecdffa29",
   "metadata": {},
   "outputs": [
    {
     "ename": "Error",
     "evalue": "Dependency `aoc-2023` is missing a lib target",
     "output_type": "error",
     "traceback": [
      "\u001b[31mError:\u001b[0m Dependency `aoc-2023` is missing a lib target"
     ]
    }
   ],
   "source": [
    ":dep ."
   ]
  },
  {
   "cell_type": "code",
   "execution_count": null,
   "id": "d8c3db23",
   "metadata": {},
   "outputs": [],
   "source": []
  }
 ],
 "metadata": {
  "kernelspec": {
   "display_name": "Rust",
   "language": "rust",
   "name": "rust"
  },
  "language_info": {
   "codemirror_mode": "rust",
   "file_extension": ".rs",
   "mimetype": "text/rust",
   "name": "Rust",
   "pygment_lexer": "rust",
   "version": ""
  }
 },
 "nbformat": 4,
 "nbformat_minor": 5
}
