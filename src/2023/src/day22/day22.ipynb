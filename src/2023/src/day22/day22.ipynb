{
 "cells": [
  {
   "cell_type": "code",
   "execution_count": 2,
   "id": "7a9248fb",
   "metadata": {},
   "outputs": [],
   "source": [
    ":dep aoc2023 = { path = \"../../\" }\n",
    ":dep anyhow = { version = \"1.0.75\" }"
   ]
  },
  {
   "cell_type": "code",
   "execution_count": 85,
   "id": "dc2a02a5",
   "metadata": {},
   "outputs": [],
   "source": [
    "use aoc2023::utils::util;\n",
    "use aoc2023::utils::grid3d::Coord3d;\n",
    "use aoc2023::utils::grid::{Grid, Coord};\n",
    "use std::{collections::{HashMap, HashSet}, mem::swap, str::FromStr};\n",
    "use anyhow::Error;"
   ]
  },
  {
   "cell_type": "code",
   "execution_count": 112,
   "id": "ddc06be8",
   "metadata": {},
   "outputs": [],
   "source": [
    "let lines = util::lines_in(\"./input1\", );"
   ]
  },
  {
   "cell_type": "code",
   "execution_count": 171,
   "id": "d8221579",
   "metadata": {},
   "outputs": [],
   "source": [
    "#[derive(Debug)]\n",
    "struct Brick {\n",
    "    coords: Vec<Coord3d>,\n",
    "}\n",
    "\n",
    "impl FromStr for Brick {\n",
    "    type Err = Error;\n",
    "\n",
    "    fn from_str(s: &str) -> Result<Self, Self::Err> {\n",
    "        let (start_str, end_str) = s.split_once(\"~\").ok_or(Error::msg(\"parse error\"))?;\n",
    "        let start_coord = Coord3d::from_str(start_str)?;\n",
    "        let end_coord = Coord3d::from_str(end_str)?;\n",
    "\n",
    "        Ok(Brick {\n",
    "            coords: start_coord.coords_till(&end_coord),\n",
    "        })\n",
    "    }\n",
    "}\n",
    "\n",
    "impl Brick {\n",
    "    fn get_num(&self, coords: &HashMap<Coord3d, usize>) -> usize {\n",
    "        *coords.get(&self.coords[0]).unwrap()\n",
    "    }\n",
    "\n",
    "    fn can_go_down(&self, coords: &HashMap<Coord3d, usize>) -> bool {\n",
    "        let num = self.get_num(coords);\n",
    "        self.coords.iter().all(|coord| match coord.below() {\n",
    "            None => false,\n",
    "            Some(coord_below) => match coords.get(&coord_below) {\n",
    "                None => true,\n",
    "                Some(brick_num) => *brick_num == num,\n",
    "            },\n",
    "        })\n",
    "    }\n",
    "\n",
    "    fn go_down(&mut self, coords: &mut HashMap<Coord3d, usize>) {\n",
    "        let num = self.get_num(coords);\n",
    "        self.coords.iter().for_each(|coord| {\n",
    "            coords.remove(coord).unwrap();\n",
    "        });\n",
    "        self.coords = self\n",
    "            .coords\n",
    "            .iter()\n",
    "            .map(|coord| coord.below().unwrap())\n",
    "            .collect();\n",
    "        self.coords.iter().for_each(|coord| {\n",
    "            assert!(coords.get(coord).is_none());\n",
    "            coords.insert(*coord, num);\n",
    "        });\n",
    "    }\n",
    "\n",
    "    fn supported_by(&self, coords: &HashMap<Coord3d, usize>) -> HashSet<usize> {\n",
    "        let num = self.get_num(coords);\n",
    "        self.coords\n",
    "            .iter()\n",
    "            .filter_map(|coord| coord.below())\n",
    "            .filter_map(|coord_below| coords.get(&coord_below).cloned())\n",
    "            // For vertically aligned bricks\n",
    "            .filter(|box_num| *box_num != num)\n",
    "            .collect::<HashSet<_>>()\n",
    "    }\n",
    "}"
   ]
  },
  {
   "cell_type": "code",
   "execution_count": 172,
   "id": "6474529d",
   "metadata": {},
   "outputs": [],
   "source": [
    "fn part1(lines: &Vec<String>) -> String {\n",
    "    let mut bricks = lines\n",
    "        .iter()\n",
    "        .map(|line| Brick::from_str(line.as_str()).unwrap())\n",
    "        .collect::<Vec<_>>();\n",
    "\n",
    "    let mut coords: HashMap<Coord3d, usize> = bricks\n",
    "        .iter()\n",
    "        .enumerate()\n",
    "        .flat_map(|(n, brick)| {\n",
    "            brick\n",
    "                .coords\n",
    "                .iter()\n",
    "                .map(|coord| (*coord, n))\n",
    "                .collect::<Vec<_>>()\n",
    "        })\n",
    "        .collect();\n",
    "\n",
    "    let mut run = true;\n",
    "    while run {\n",
    "        run = bricks.iter_mut().fold(false, |mut run, brick| {\n",
    "            if brick.can_go_down(&coords) {\n",
    "                brick.go_down(&mut coords);\n",
    "                return true;\n",
    "            }\n",
    "            run\n",
    "        });\n",
    "    }\n",
    "\n",
    "    let supporting_bricks = bricks\n",
    "        .iter()\n",
    "        .map(|brick| {\n",
    "            let mut supported_by = brick.supported_by(&coords);\n",
    "            if supported_by.len() == 1 {\n",
    "                Some(supported_by.into_iter().next().unwrap())\n",
    "            } else {\n",
    "                None\n",
    "            }\n",
    "        })\n",
    "        .filter(|s| s.is_some())\n",
    "        .map(|s| s.unwrap())\n",
    "        .collect::<HashSet<usize>>();\n",
    "\n",
    "    (bricks.len() - supporting_bricks.len()).to_string()\n",
    "}"
   ]
  },
  {
   "cell_type": "code",
   "execution_count": 173,
   "id": "6c3617ac",
   "metadata": {},
   "outputs": [
    {
     "data": {
      "text/plain": [
       "\"463\""
      ]
     },
     "execution_count": 173,
     "metadata": {},
     "output_type": "execute_result"
    }
   ],
   "source": [
    "part1(&lines)"
   ]
  },
  {
   "cell_type": "code",
   "execution_count": 115,
   "id": "a70367be",
   "metadata": {},
   "outputs": [],
   "source": [
    "let mut bricks = lines\n",
    "        .iter()\n",
    "        .map(|line| Brick::from_str(line.as_str()).unwrap())\n",
    "        .collect::<Vec<_>>();"
   ]
  },
  {
   "cell_type": "code",
   "execution_count": 116,
   "id": "65485ada",
   "metadata": {},
   "outputs": [
    {
     "data": {
      "text/plain": [
       "1370"
      ]
     },
     "execution_count": 116,
     "metadata": {},
     "output_type": "execute_result"
    }
   ],
   "source": [
    "bricks.len()"
   ]
  },
  {
   "cell_type": "code",
   "execution_count": 117,
   "id": "f9b953bc",
   "metadata": {},
   "outputs": [],
   "source": [
    "let mut coords: HashMap<Coord3d, usize> = bricks\n",
    "        .iter()\n",
    "        .enumerate()\n",
    "        .flat_map(|(n, brick)| {\n",
    "            brick\n",
    "                .coords\n",
    "                .iter()\n",
    "                .map(|coord| (*coord, n))\n",
    "                .collect::<Vec<_>>()\n",
    "        })\n",
    "        .collect();\n"
   ]
  },
  {
   "cell_type": "code",
   "execution_count": 118,
   "id": "73d2a073",
   "metadata": {},
   "outputs": [
    {
     "data": {
      "text/plain": [
       "4125"
      ]
     },
     "execution_count": 118,
     "metadata": {},
     "output_type": "execute_result"
    }
   ],
   "source": [
    "coords.len()"
   ]
  },
  {
   "cell_type": "code",
   "execution_count": 119,
   "id": "dcc5efa8",
   "metadata": {},
   "outputs": [
    {
     "name": "stdout",
     "output_type": "stream",
     "text": [
      "Coord3d { p: 0, q: 2, r: 1 }, brick: 655\n",
      "Coord3d { p: 0, q: 3, r: 1 }, brick: 655\n",
      "Coord3d { p: 0, q: 4, r: 1 }, brick: 655\n",
      "Coord3d { p: 0, q: 5, r: 1 }, brick: 655\n",
      "Coord3d { p: 1, q: 5, r: 1 }, brick: 649\n",
      "Coord3d { p: 1, q: 6, r: 1 }, brick: 158\n",
      "Coord3d { p: 1, q: 7, r: 1 }, brick: 158\n",
      "Coord3d { p: 2, q: 3, r: 1 }, brick: 1215\n",
      "Coord3d { p: 3, q: 3, r: 1 }, brick: 1215\n",
      "Coord3d { p: 4, q: 3, r: 1 }, brick: 1215\n",
      "Coord3d { p: 4, q: 9, r: 1 }, brick: 197\n",
      "Coord3d { p: 5, q: 3, r: 1 }, brick: 1215\n",
      "Coord3d { p: 5, q: 9, r: 1 }, brick: 197\n",
      "Coord3d { p: 6, q: 9, r: 1 }, brick: 197\n",
      "Coord3d { p: 7, q: 0, r: 1 }, brick: 1345\n",
      "Coord3d { p: 8, q: 0, r: 1 }, brick: 1345\n",
      "Coord3d { p: 9, q: 2, r: 1 }, brick: 288\n",
      "Coord3d { p: 9, q: 3, r: 1 }, brick: 288\n",
      "Coord3d { p: 9, q: 9, r: 1 }, brick: 1018\n",
      "Coord3d { p: 0, q: 6, r: 2 }, brick: 1122\n"
     ]
    },
    {
     "data": {
      "text/plain": [
       "()"
      ]
     },
     "execution_count": 119,
     "metadata": {},
     "output_type": "execute_result"
    }
   ],
   "source": [
    "{\n",
    "    let mut keys = coords.keys().collect::<Vec<&Coord3d>>();\n",
    "    keys.sort_by(|ca, cb| if ca.r != cb.r {\n",
    "        ca.r.cmp(&cb.r)\n",
    "    } else if ca.p != cb.p {\n",
    "        ca.p.cmp(&cb.p)\n",
    "    } else {\n",
    "        ca.q.cmp(&cb.q)\n",
    "    });\n",
    "    for key in keys[0..20].iter() {\n",
    "        println!(\"{:?}, brick: {}\", key, coords.get(key).unwrap());\n",
    "    }\n",
    "}"
   ]
  },
  {
   "cell_type": "code",
   "execution_count": 121,
   "id": "3d8f08d9",
   "metadata": {},
   "outputs": [
    {
     "data": {
      "text/plain": [
       "(9, 9, 359)"
      ]
     },
     "execution_count": 121,
     "metadata": {},
     "output_type": "execute_result"
    }
   ],
   "source": [
    "let max_p = coords.keys().fold(0, |max, coord| std::cmp::max(max, coord.p));\n",
    "let max_q = coords.keys().fold(0, |max, coord| std::cmp::max(max, coord.q));\n",
    "let max_r = coords.keys().fold(0, |max, coord| std::cmp::max(max, coord.r));\n",
    "(max_p, max_q, max_r)"
   ]
  },
  {
   "cell_type": "code",
   "execution_count": 133,
   "id": "fd071c30",
   "metadata": {},
   "outputs": [
    {
     "name": "stdout",
     "output_type": "stream",
     "text": [
      "<......><......><......><.0361.><.0361.><.0361.><.0118.><......><......><......>\n",
      "<......><.1170.><.1170.><.0686.><.0686.><.0686.><.0686.><.0791.><.0981.><......>\n",
      "<......><......><......><......><......><.0234.><......><......><......><......>\n",
      "<......><......><......><.0876.><......><.1212.><.0460.><......><......><......>\n",
      "<.0004.><.0170.><.0175.><.0889.><.0589.><.1145.><.0460.><.1145.><.1001.><......>\n",
      "<.0555.><.0649.><.0659.><.0889.><......><.0079.><.0460.><.1028.><......><.0590.>\n",
      "<.0247.><.0649.><.0659.><.0889.><......><.0079.><.0460.><.0853.><.0853.><.0005.>\n",
      "<.1122.><.0649.><.0295.><.1201.><.0429.><.0429.><.0506.><.0506.><.0506.><.1018.>\n",
      "<.0655.><.0649.><.1215.><.1215.><.1215.><.1215.><.0197.><.1345.><.1345.><.0288.>\n",
      "<......><......><......><......><......><......><......><......><......><......>\n"
     ]
    }
   ],
   "source": [
    "let grid_x = (0..max_r + 1).map(|r| {\n",
    "    (0..max_p + 1).map(|p| {\n",
    "        let first = (0..max_q + 1).find_map(|q| {\n",
    "            coords.get(&Coord3d::new(p, q, r))\n",
    "        });\n",
    "        match first {\n",
    "            None => \"<......>\".to_string(),\n",
    "            Some(brick_num) => format!(\"<.{:0>4}.>\", brick_num.to_string())\n",
    "        }\n",
    "    }).collect::<Vec<String>>()\n",
    "}).collect::<Vec<Vec<String>>>();\n",
    "let grid_str = grid_x[0..10].iter().rev().map(|row| row.join(\"\")).collect::<Vec<_>>().join(\"\\n\");\n",
    "println!(\"{}\", grid_str);"
   ]
  },
  {
   "cell_type": "code",
   "execution_count": 136,
   "id": "dd0fd612",
   "metadata": {},
   "outputs": [
    {
     "name": "stdout",
     "output_type": "stream",
     "text": [
      "<.0118.><.0118.><.0118.><......><.0600.><.0600.><.0600.><.0600.><.0361.><......>\n",
      "<.0686.><......><......><.1170.><.0791.><......><.0981.><......><......><......>\n",
      "<......><......><......><......><......><......><......><.0234.><.0234.><......>\n",
      "<.0460.><......><......><......><.0876.><.0876.><.0876.><.1212.><.1212.><.1213.>\n",
      "<.0460.><.0004.><.0004.><.0589.><.0175.><.0170.><.0170.><.0170.><.0200.><.0478.>\n",
      "<.0460.><.0889.><.0590.><......><......><.0649.><.0134.><.0079.><.0215.><.0555.>\n",
      "<.0247.><.0247.><.0251.><.0251.><.0077.><.0077.><.0077.><.0077.><.0215.><.1054.>\n",
      "<......><......><.0506.><.0429.><......><.0649.><.1122.><.1122.><.1122.><.1314.>\n",
      "<.1345.><......><.0655.><.0655.><.0655.><.0655.><.0158.><.0158.><......><.0197.>\n",
      "<......><......><......><......><......><......><......><......><......><......>\n"
     ]
    }
   ],
   "source": [
    "let grid_y = (0..max_r + 1).map(|r| {\n",
    "    (0..max_q + 1).map(|q| {\n",
    "        let first = (0..max_p + 1).find_map(|p| {\n",
    "            coords.get(&Coord3d::new(p, q, r))\n",
    "        });\n",
    "        match first {\n",
    "            None => \"<......>\".to_string(),\n",
    "            Some(brick_num) => format!(\"<.{:0>4}.>\", brick_num.to_string())\n",
    "        }\n",
    "    }).collect::<Vec<String>>()\n",
    "}).collect::<Vec<Vec<String>>>();\n",
    "let grid_str = grid_y[0..10].iter().rev().map(|row| row.join(\"\")).collect::<Vec<_>>().join(\"\\n\");\n",
    "println!(\"{}\", grid_str);"
   ]
  },
  {
   "cell_type": "code",
   "execution_count": 168,
   "id": "5a8d9b49",
   "metadata": {},
   "outputs": [
    {
     "name": "stdout",
     "output_type": "stream",
     "text": [
      "[Coord3d { p: 7, q: 5, r: 19 }, Coord3d { p: 7, q: 6, r: 19 }, Coord3d { p: 7, q: 7, r: 19 }, Coord3d { p: 7, q: 8, r: 19 }], false\n"
     ]
    },
    {
     "data": {
      "text/plain": [
       "()"
      ]
     },
     "execution_count": 168,
     "metadata": {},
     "output_type": "execute_result"
    }
   ],
   "source": [
    "{\n",
    "    let brick = bricks.get(0959).unwrap();\n",
    "    println!(\"{:?}, {}\", brick.coords, brick.can_go_down(&coords));\n",
    "    println!(\"{:?}\", brick.coords, brick.supported_by(&coords));\n",
    "    \n",
    "}"
   ]
  },
  {
   "cell_type": "code",
   "execution_count": 140,
   "id": "8ba5cff2",
   "metadata": {},
   "outputs": [
    {
     "data": {
      "text/plain": [
       "()"
      ]
     },
     "execution_count": 140,
     "metadata": {},
     "output_type": "execute_result"
    }
   ],
   "source": [
    "    let mut run = true;\n",
    "    while run {\n",
    "        run = bricks.iter_mut().fold(false, |mut run, brick| {\n",
    "            if brick.can_go_down(&coords) {\n",
    "                brick.go_down(&mut coords);\n",
    "                return true;\n",
    "            }\n",
    "            run\n",
    "        });\n",
    "    }"
   ]
  },
  {
   "cell_type": "code",
   "execution_count": 141,
   "id": "5ba2f4bc",
   "metadata": {},
   "outputs": [
    {
     "name": "stdout",
     "output_type": "stream",
     "text": [
      "<......><......><.1196.><.1196.><.0420.><.0244.><.0244.><.0085.><.1350.><......>\n",
      "<......><.1262.><.0059.><.1038.><.0809.><.0388.><.0388.><.0388.><.0388.><.0627.>\n",
      "<......><.0588.><.1073.><.1073.><.0310.><.0643.><.0643.><.0643.><.1246.><.1246.>\n",
      "<......><.0994.><......><.0386.><.0808.><.0763.><.0118.><.1249.><.1249.><.1249.>\n",
      "<.1248.><.1248.><.1248.><.0686.><.0686.><.0686.><.0686.><......><.1118.><......>\n",
      "<......><.1170.><.1170.><.1170.><.1170.><.1145.><.0460.><.1145.><.0981.><.0752.>\n",
      "<......><.0649.><.0175.><.0889.><.0589.><.0160.><.0460.><.1028.><.1001.><.1018.>\n",
      "<.0004.><.0649.><.0659.><.0889.><.0429.><.0429.><.0460.><.0852.><.0853.><.0590.>\n",
      "<.0247.><.0649.><.1215.><.0889.><.1215.><.1215.><.0460.><.1345.><.1345.><.0288.>\n",
      "<......><......><......><......><......><......><......><......><......><......>\n"
     ]
    }
   ],
   "source": [
    "let grid_x = (0..max_r + 1).map(|r| {\n",
    "    (0..max_p + 1).map(|p| {\n",
    "        let first = (0..max_q + 1).find_map(|q| {\n",
    "            coords.get(&Coord3d::new(p, q, r))\n",
    "        });\n",
    "        match first {\n",
    "            None => \"<......>\".to_string(),\n",
    "            Some(brick_num) => format!(\"<.{:0>4}.>\", brick_num.to_string())\n",
    "        }\n",
    "    }).collect::<Vec<String>>()\n",
    "}).collect::<Vec<Vec<String>>>();\n",
    "let grid_str = grid_x[0..10].iter().rev().map(|row| row.join(\"\")).collect::<Vec<_>>().join(\"\\n\");\n",
    "println!(\"{}\", grid_str);"
   ]
  },
  {
   "cell_type": "code",
   "execution_count": 166,
   "id": "70267a10",
   "metadata": {},
   "outputs": [
    {
     "name": "stdout",
     "output_type": "stream",
     "text": [
      "<......><......><......><......><......><......><.1218.><......><......><......>\n",
      "<......><......><......><......><.0140.><......><.1218.><......><......><......>\n",
      "<......><......><......><.0645.><.0140.><.0008.><.1218.><......><......><......>\n",
      "<......><......><......><.0645.><......><.0008.><......><......><......><......>\n",
      "<......><......><......><.0645.><.0236.><.0008.><......><......><......><......>\n",
      "<......><......><......><.0645.><.0236.><.0008.><.1327.><.1327.><.1327.><......>\n",
      "<......><.0624.><.0624.><.0624.><......><.0558.><......><......><......><......>\n",
      "<......><.0810.><......><......><......><.0558.><.0179.><......><......><......>\n",
      "<......><.0810.><.1091.><......><......><.0558.><.0179.><......><......><......>\n",
      "<......><......><.1091.><......><......><......><.0179.><......><......><......>\n"
     ]
    }
   ],
   "source": [
    "fn print_layer(layer: u32, max_p: u32, max_q: u32, coords: &HashMap<Coord3d, usize>) {\n",
    "    let grid_xy = (0..max_p + 1).map(|p| {\n",
    "        (0..max_q + 1).map(|q| {\n",
    "            match coords.get(&Coord3d::new(p, q, layer)) {\n",
    "                None => \"<......>\".to_string(),\n",
    "                Some(brick_num) => format!(\"<.{:0>4}.>\", brick_num.to_string())\n",
    "            }\n",
    "        }).collect::<Vec<String>>()\n",
    "    }).collect::<Vec<Vec<String>>>();\n",
    "    let grid_str = grid_xy.iter().rev().map(|row| row.join(\"\")).collect::<Vec<_>>().join(\"\\n\");\n",
    "    println!(\"{}\", grid_str);\n",
    "}\n",
    "\n",
    "print_layer(18, max_p, max_q, &coords);"
   ]
  },
  {
   "cell_type": "code",
   "execution_count": 167,
   "id": "06df14b3",
   "metadata": {},
   "outputs": [
    {
     "name": "stdout",
     "output_type": "stream",
     "text": [
      "<......><......><......><.1205.><.1205.><.1205.><.1205.><......><......><......>\n",
      "<......><......><......><......><......><......><.1245.><.1245.><.1245.><......>\n",
      "<......><......><.1259.><.1259.><......><.0959.><.0959.><.0959.><.0959.><......>\n",
      "<.0469.><.0469.><.0469.><.0469.><......><......><.0203.><......><.1159.><......>\n",
      "<......><......><......><.0256.><......><......><.0203.><......><.1159.><......>\n",
      "<......><......><......><.0256.><......><......><.0203.><......><.1159.><......>\n",
      "<......><......><......><.0256.><......><......><......><......><......><......>\n",
      "<......><......><......><.0256.><......><......><......><......><......><......>\n",
      "<.0662.><.0662.><.0662.><.0662.><......><......><.0903.><.0903.><......><......>\n",
      "<......><......><......><......><.0996.><.0996.><.0996.><.0996.><.0996.><......>\n"
     ]
    }
   ],
   "source": [
    "print_layer(19, max_p, max_q, &coords);"
   ]
  },
  {
   "cell_type": "code",
   "execution_count": 155,
   "id": "c0ba9af4",
   "metadata": {},
   "outputs": [],
   "source": [
    "    let supporting_bricks = bricks\n",
    "        .iter()\n",
    "        .map(|brick| {\n",
    "            let mut supported_by = brick.supported_by(&coords);\n",
    "            if supported_by.len() == 1 {\n",
    "                Some(supported_by.pop().unwrap())\n",
    "            } else {\n",
    "                None\n",
    "            }\n",
    "        })\n",
    "        .filter(|s| s.is_some())\n",
    "        .map(|s| s.unwrap())\n",
    "        .collect::<HashSet<usize>>();"
   ]
  },
  {
   "cell_type": "code",
   "execution_count": 164,
   "id": "9c0a9e05",
   "metadata": {},
   "outputs": [
    {
     "data": {
      "text/plain": [
       "[1, 7, 9, 10, 14, 15, 17, 18, 20, 23, 27, 29, 30, 32, 34, 36, 38, 39, 44, 46, 49, 51, 53, 55, 63, 64, 65, 68, 69, 72, 73, 78, 80, 83, 84, 86, 87, 89, 92, 94, 95, 99, 100, 103, 104, 109, 111, 112, 113, 114, 117, 118, 119, 121, 122, 125, 126, 129, 130, 131, 133, 136, 139, 141, 142, 144, 146, 151, 152, 153, 156, 162, 163, 165, 167, 168, 169, 176, 178, 179, 181, 185, 186, 187, 191, 193, 194, 195, 199, 201, 204, 205, 206, 207, 212, 213, 218, 221, 222, 223, 226, 227, 229, 230, 231, 233, 234, 235, 237, 239, 240, 242, 243, 245, 246, 248, 249, 251, 252, 253, 254, 256, 258, 259, 260, 262, 263, 264, 267, 268, 271, 273, 277, 284, 285, 286, 287, 288, 290, 291, 293, 295, 297, 303, 304, 308, 314, 316, 317, 318, 320, 321, 323, 327, 328, 329, 331, 335, 336, 337, 340, 345, 347, 348, 351, 352, 353, 354, 355, 358, 360, 361, 363, 364, 365, 366, 368, 369, 370, 371, 374, 376, 379, 380, 382, 388, 391, 392, 393, 394, 395, 397, 398, 401, 402, 406, 410, 414, 415, 417, 418, 419, 420, 421, 423, 424, 425, 426, 428, 429, 432, 433, 434, 435, 438, 441, 442, 443, 446, 449, 451, 452, 453, 455, 456, 457, 458, 459, 460, 461, 464, 465, 469, 471, 476, 477, 480, 481, 482, 483, 485, 486, 491, 498, 499, 500, 501, 502, 503, 506, 509, 510, 511, 512, 515, 516, 521, 524, 525, 527, 530, 531, 534, 535, 537, 539, 540, 541, 542, 543, 544, 545, 548, 549, 553, 554, 555, 556, 561, 563, 565, 566, 567, 568, 570, 571, 572, 573, 575, 577, 578, 580, 585, 587, 589, 591, 592, 593, 599, 600, 601, 604, 608, 609, 611, 613, 614, 616, 617, 619, 621, 623, 625, 628, 629, 632, 633, 636, 638, 642, 645, 646, 648, 649, 657, 658, 659, 662, 663, 664, 665, 667, 669, 670, 671, 672, 673, 674, 676, 678, 679, 681, 682, 686, 688, 689, 693, 695, 697, 698, 699, 703, 704, 706, 708, 709, 711, 713, 716, 717, 719, 720, 722, 723, 724, 725, 726, 727, 730, 731, 732, 733, 734, 735, 736, 738, 742, 743, 745, 746, 747, 748, 749, 753, 755, 756, 758, 759, 761, 762, 764, 768, 769, 771, 774, 775, 776, 777, 778, 781, 783, 784, 785, 787, 788, 792, 794, 795, 796, 797, 799, 802, 803, 806, 808, 809, 812, 822, 824, 825, 827, 829, 830, 831, 832, 834, 838, 840, 841, 842, 849, 850, 851, 853, 854, 856, 857, 858, 859, 860, 861, 862, 863, 864, 865, 867, 870, 871, 872, 874, 875, 878, 880, 882, 884, 885, 886, 888, 897, 899, 900, 901, 904, 905, 909, 916, 918, 922, 923, 925, 926, 928, 929, 931, 932, 935, 937, 938, 940, 941, 943, 944, 946, 949, 951, 952, 953, 955, 956, 957, 958, 959, 961, 962, 964, 967, 969, 970, 974, 978, 979, 981, 982, 984, 986, 988, 989, 990, 993, 994, 995, 999, 1001, 1002, 1003, 1004, 1006, 1007, 1010, 1011, 1012, 1014, 1016, 1017, 1018, 1022, 1025, 1027, 1028, 1030, 1031, 1032, 1033, 1034, 1035, 1038, 1040, 1041, 1042, 1043, 1045, 1046, 1048, 1049, 1052, 1056, 1057, 1058, 1061, 1062, 1063, 1064, 1066, 1067, 1068, 1069, 1071, 1073, 1074, 1075, 1077, 1078, 1080, 1081, 1082, 1085, 1086, 1088, 1092, 1093, 1094, 1095, 1096, 1097, 1099, 1102, 1103, 1106, 1109, 1110, 1111, 1112, 1114, 1115, 1118, 1119, 1120, 1121, 1124, 1125, 1127, 1130, 1132, 1134, 1138, 1142, 1148, 1152, 1158, 1160, 1162, 1166, 1169, 1170, 1171, 1172, 1173, 1174, 1178, 1179, 1180, 1181, 1185, 1187, 1190, 1191, 1196, 1200, 1201, 1202, 1204, 1205, 1208, 1209, 1210, 1211, 1214, 1217, 1218, 1219, 1222, 1223, 1224, 1226, 1227, 1228, 1236, 1237, 1239, 1241, 1242, 1248, 1250, 1252, 1255, 1256, 1258, 1260, 1263, 1264, 1266, 1268, 1269, 1270, 1271, 1274, 1276, 1277, 1278, 1279, 1281, 1283, 1284, 1287, 1288, 1289, 1290, 1291, 1292, 1293, 1295, 1297, 1298, 1299, 1304, 1309, 1312, 1313, 1314, 1315, 1316, 1319, 1320, 1321, 1322, 1323, 1325, 1326, 1327, 1328, 1330, 1335, 1336, 1337, 1340, 1341, 1343, 1346, 1347, 1350, 1351, 1355, 1358, 1359, 1362, 1363, 1365, 1366, 1367, 1369]"
      ]
     },
     "execution_count": 164,
     "metadata": {},
     "output_type": "execute_result"
    }
   ],
   "source": [
    "let mut supporting_bricks = supporting_bricks.into_iter().collect::<Vec<_>>();\n",
    "supporting_bricks.sort();\n",
    "\n",
    "supporting_bricks"
   ]
  },
  {
   "cell_type": "code",
   "execution_count": null,
   "id": "2d43ba5a",
   "metadata": {},
   "outputs": [],
   "source": []
  }
 ],
 "metadata": {
  "kernelspec": {
   "display_name": "Rust",
   "language": "rust",
   "name": "rust"
  },
  "language_info": {
   "codemirror_mode": "rust",
   "file_extension": ".rs",
   "mimetype": "text/rust",
   "name": "Rust",
   "pygment_lexer": "rust",
   "version": ""
  }
 },
 "nbformat": 4,
 "nbformat_minor": 5
}
